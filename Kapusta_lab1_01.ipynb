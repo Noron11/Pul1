{
  "nbformat": 4,
  "nbformat_minor": 0,
  "metadata": {
    "colab": {
      "provenance": []
    },
    "kernelspec": {
      "name": "python3",
      "display_name": "Python 3"
    },
    "language_info": {
      "name": "python"
    },
    "gpuClass": "standard"
  },
  "cells": [
    {
      "cell_type": "code",
      "execution_count": null,
      "metadata": {
        "id": "PiFr0hj45qdM"
      },
      "outputs": [],
      "source": [
        "import tensorflow as tf\n",
        "import numpy as np\n",
        "import matplotlib.pyplot as plt\n",
        "from tensorflow.python.ops.nn_impl import normalize"
      ]
    },
    {
      "cell_type": "markdown",
      "source": [
        "Підключення датасету MNIST та додавання класу"
      ],
      "metadata": {
        "id": "CbCzXga450kp"
      }
    },
    {
      "cell_type": "code",
      "source": [
        "fashion_mnist = tf.keras.datasets.fashion_mnist\n",
        "\n",
        "(train_images, train_labels), (test_images, test_labels) = fashion_mnist.load_data()"
      ],
      "metadata": {
        "id": "wVb2f3GOGVND",
        "colab": {
          "base_uri": "https://localhost:8080/"
        },
        "outputId": "0dbc2a8f-11a3-40c1-d42b-cfe3dbd56d0e"
      },
      "execution_count": null,
      "outputs": [
        {
          "output_type": "stream",
          "name": "stdout",
          "text": [
            "Downloading data from https://storage.googleapis.com/tensorflow/tf-keras-datasets/train-labels-idx1-ubyte.gz\n",
            "29515/29515 [==============================] - 0s 0us/step\n",
            "Downloading data from https://storage.googleapis.com/tensorflow/tf-keras-datasets/train-images-idx3-ubyte.gz\n",
            "26421880/26421880 [==============================] - 1s 0us/step\n",
            "Downloading data from https://storage.googleapis.com/tensorflow/tf-keras-datasets/t10k-labels-idx1-ubyte.gz\n",
            "5148/5148 [==============================] - 0s 0us/step\n",
            "Downloading data from https://storage.googleapis.com/tensorflow/tf-keras-datasets/t10k-images-idx3-ubyte.gz\n",
            "4422102/4422102 [==============================] - 0s 0us/step\n"
          ]
        }
      ]
    },
    {
      "cell_type": "code",
      "source": [
        "class_names = ['T-shirt/top', 'Trouser', 'Pullover', 'Dress', 'Coat',\n",
        "               'Sandal', 'Shirt', 'Sneaker', 'Bag', 'Ankle boot']"
      ],
      "metadata": {
        "id": "-bYRCljBGdH5"
      },
      "execution_count": null,
      "outputs": []
    },
    {
      "cell_type": "markdown",
      "source": [
        "Попередня обробка "
      ],
      "metadata": {
        "id": "C2enj9q9hvbn"
      }
    },
    {
      "cell_type": "code",
      "source": [
        "plt.figure(0)\n",
        "plt.imshow(train_images[108])\n",
        "plt.colorbar()\n",
        "plt.grid(True)\n",
        "plt.show()"
      ],
      "metadata": {
        "colab": {
          "base_uri": "https://localhost:8080/",
          "height": 265
        },
        "id": "Dza21kN0kKPP",
        "outputId": "01d9f3db-e050-4474-b3c8-00a3774d09d7"
      },
      "execution_count": null,
      "outputs": [
        {
          "output_type": "display_data",
          "data": {
            "text/plain": [
              "<Figure size 432x288 with 2 Axes>"
            ],
            "image/png": "[encoded data removed]"
          },
          "metadata": {
            "needs_background": "light"
          }
        }
      ]
    },
    {
      "cell_type": "markdown",
      "source": [
        "Масштабування від 0 до 1. Навчальна і перевірна вибірки повинні бути попередньо оброблені однаково"
      ],
      "metadata": {
        "id": "lOEP2cnbkpdI"
      }
    },
    {
      "cell_type": "code",
      "source": [
        "train_images = train_images / 255.0\n",
        "test_images = test_images / 255.0"
      ],
      "metadata": {
        "id": "KMvwh5WZk5Pb"
      },
      "execution_count": null,
      "outputs": []
    },
    {
      "cell_type": "markdown",
      "source": [
        "Нормалізація"
      ],
      "metadata": {
        "id": "A1NyuQ2bXEHy"
      }
    },
    {
      "cell_type": "code",
      "source": [
        "tf.keras.layers.Normalization(axis=-1,mean=None, variance=None, invert=True,)"
      ],
      "metadata": {
        "colab": {
          "base_uri": "https://localhost:8080/"
        },
        "id": "x6pAqW86XD15",
        "outputId": "e81f82a1-af56-4590-cf7d-5969e2480533"
      },
      "execution_count": null,
      "outputs": [
        {
          "output_type": "execute_result",
          "data": {
            "text/plain": [
              "<keras.layers.preprocessing.normalization.Normalization at 0x7f7cdca6bdc0>"
            ]
          },
          "metadata": {},
          "execution_count": 6
        }
      ]
    },
    {
      "cell_type": "code",
      "source": [
        "from keras.utils.conv_utils import normalize_data_format\n",
        "normalizer = tf.keras.layers.Normalization(axis=-1)\n",
        "normalizer.adapt \n"
      ],
      "metadata": {
        "colab": {
          "base_uri": "https://localhost:8080/"
        },
        "id": "zGlnhwxnX5dD",
        "outputId": "3586c621-2500-4550-92ba-1562966d836e"
      },
      "execution_count": null,
      "outputs": [
        {
          "output_type": "execute_result",
          "data": {
            "text/plain": [
              "<bound method Normalization.adapt of <keras.layers.preprocessing.normalization.Normalization object at 0x7f7c5abb4760>>"
            ]
          },
          "metadata": {},
          "execution_count": 7
        }
      ]
    },
    {
      "cell_type": "markdown",
      "source": [
        "Налаштування шарів"
      ],
      "metadata": {
        "id": "j_iV1nymny2t"
      }
    },
    {
      "cell_type": "code",
      "source": [
        "model = tf.keras.Sequential([\n",
        "    normalizer,\n",
        "    tf.keras.layers.Flatten(input_shape=(28, 28)),\n",
        "    tf.keras.layers.Dense(256, activation='relu'),\n",
        "    tf.keras.layers.Dense(10, activation=tf.nn.softmax)\n",
        "])"
      ],
      "metadata": {
        "id": "zlpmygpVoCGP"
      },
      "execution_count": null,
      "outputs": []
    },
    {
      "cell_type": "markdown",
      "source": [
        "Компіляція моделі (перший спосіб)\n",
        "\n"
      ],
      "metadata": {
        "id": "1wMQVJuOpjbW"
      }
    },
    {
      "cell_type": "code",
      "source": [
        "model.compile(optimizer='adamax',\n",
        "              loss=tf.keras.losses.SparseCategoricalCrossentropy(from_logits=True),\n",
        "              metrics=['accuracy'])"
      ],
      "metadata": {
        "id": "CtHhhxIJpr_N"
      },
      "execution_count": null,
      "outputs": []
    },
    {
      "cell_type": "markdown",
      "source": [
        "Тренування моделі"
      ],
      "metadata": {
        "id": "aOYYFoMTqJrN"
      }
    },
    {
      "cell_type": "code",
      "source": [
        "model.fit(train_images, train_labels, epochs=5)"
      ],
      "metadata": {
        "colab": {
          "base_uri": "https://localhost:8080/"
        },
        "id": "wY5FWIJJqMHU",
        "outputId": "913aba82-d1a2-48a7-eb04-12d43575b728"
      },
      "execution_count": null,
      "outputs": [
        {
          "output_type": "stream",
          "name": "stdout",
          "text": [
            "Epoch 1/5\n",
            "1875/1875 [==============================] - 11s 6ms/step - loss: 0.5240 - accuracy: 0.8206\n",
            "Epoch 2/5\n",
            "1875/1875 [==============================] - 11s 6ms/step - loss: 0.4032 - accuracy: 0.8576\n",
            "Epoch 3/5\n",
            "1875/1875 [==============================] - 10s 5ms/step - loss: 0.3616 - accuracy: 0.8720\n",
            "Epoch 4/5\n",
            "1875/1875 [==============================] - 11s 6ms/step - loss: 0.3400 - accuracy: 0.8777\n",
            "Epoch 5/5\n",
            "1875/1875 [==============================] - 13s 7ms/step - loss: 0.3206 - accuracy: 0.8850\n"
          ]
        },
        {
          "output_type": "execute_result",
          "data": {
            "text/plain": [
              "<keras.callbacks.History at 0x7f7c576be070>"
            ]
          },
          "metadata": {},
          "execution_count": 14
        }
      ]
    },
    {
      "cell_type": "code",
      "source": [
        "test_loss, test_acc = model.evaluate(test_images,  test_labels, verbose=2)\n",
        "print('\\nTest accuracy:', test_acc)"
      ],
      "metadata": {
        "colab": {
          "base_uri": "https://localhost:8080/"
        },
        "id": "LTpND-WQrTn_",
        "outputId": "16417149-2130-41cd-b63c-0ae27c97daf1"
      },
      "execution_count": null,
      "outputs": [
        {
          "output_type": "stream",
          "name": "stdout",
          "text": [
            "313/313 - 1s - loss: 0.3621 - accuracy: 0.8715 - 952ms/epoch - 3ms/step\n",
            "\n",
            "Test accuracy: 0.8715000152587891\n"
          ]
        }
      ]
    },
    {
      "cell_type": "markdown",
      "source": [
        "Викорстання моделі для передбачення на тестовому наборі\n",
        "\n",
        "\n"
      ],
      "metadata": {
        "id": "-ThsMsOevi3q"
      }
    },
    {
      "cell_type": "code",
      "source": [
        "probability_model = tf.keras.Sequential([model, tf.keras.layers.Softmax()])"
      ],
      "metadata": {
        "id": "lgYWcgpA1mDF"
      },
      "execution_count": null,
      "outputs": []
    },
    {
      "cell_type": "code",
      "source": [
        "predictions = probability_model.predict(test_images)"
      ],
      "metadata": {
        "colab": {
          "base_uri": "https://localhost:8080/"
        },
        "id": "VR18BHTpwPnw",
        "outputId": "35f1c7c3-150b-4790-f3f2-b9ffbecf5385"
      },
      "execution_count": null,
      "outputs": [
        {
          "output_type": "stream",
          "name": "stdout",
          "text": [
            "313/313 [==============================] - 1s 2ms/step\n"
          ]
        }
      ]
    },
    {
      "cell_type": "code",
      "source": [
        "predictions[0]"
      ],
      "metadata": {
        "colab": {
          "base_uri": "https://localhost:8080/"
        },
        "id": "_LKKOhpEwSV_",
        "outputId": "6ba1291e-f036-415a-e9c3-b36a35f72394"
      },
      "execution_count": null,
      "outputs": [
        {
          "output_type": "execute_result",
          "data": {
            "text/plain": [
              "array([0.08647461, 0.08647338, 0.0864749 , 0.08647378, 0.08647551,\n",
              "       0.09108779, 0.0864767 , 0.09009521, 0.08692722, 0.2130408 ],\n",
              "      dtype=float32)"
            ]
          },
          "metadata": {},
          "execution_count": 18
        }
      ]
    },
    {
      "cell_type": "code",
      "source": [
        "np.argmax(predictions[0])"
      ],
      "metadata": {
        "colab": {
          "base_uri": "https://localhost:8080/"
        },
        "id": "6Io-q00HwcyL",
        "outputId": "5abc03e9-8c57-41e9-c277-7411e03586b2"
      },
      "execution_count": null,
      "outputs": [
        {
          "output_type": "execute_result",
          "data": {
            "text/plain": [
              "9"
            ]
          },
          "metadata": {},
          "execution_count": 19
        }
      ]
    },
    {
      "cell_type": "code",
      "source": [
        "def plot_image(i, predictions_array, true_label, img):\n",
        "  predictions_array, true_label, img = predictions_array[i], true_label[i], img[i]\n",
        "  plt.grid(False)\n",
        "  plt.xticks([])\n",
        "  plt.yticks([])\n",
        "\n",
        "  plt.imshow(img, cmap=plt.cm.binary)\n",
        "\n",
        "  predicted_label = np.argmax(predictions_array)\n",
        "  if predicted_label == true_label:\n",
        "    color = 'blue'\n",
        "  else:\n",
        "    color = 'red'\n",
        "\n",
        "  plt.xlabel(\"{} {:2.0f}% ({})\".format(class_names[predicted_label],\n",
        "                                100*np.max(predictions_array),\n",
        "                                class_names[true_label]),\n",
        "                                color=color)\n",
        "\n",
        "def plot_value_array(i, predictions_array, true_label):\n",
        "  predictions_array, true_label = predictions_array[i], true_label[i]\n",
        "  plt.grid(False)\n",
        "  plt.xticks([])\n",
        "  plt.yticks([])\n",
        "  thisplot = plt.bar(range(10), predictions_array, color=\"#777777\")\n",
        "  plt.ylim([0, 1]) \n",
        "  predicted_label = np.argmax(predictions_array)\n",
        "\n",
        "  thisplot[predicted_label].set_color('red')\n",
        "  thisplot[true_label].set_color('blue')"
      ],
      "metadata": {
        "id": "k1JmmORdxVtd"
      },
      "execution_count": null,
      "outputs": []
    },
    {
      "cell_type": "code",
      "source": [
        "i = 103\n",
        "\n",
        "plt.figure(figsize=(6,3))\n",
        "plt.subplot(1,2,1)\n",
        "plot_image(i, predictions, test_labels, test_images)\n",
        "plt.subplot(1,2,2)\n",
        "plot_value_array(i, predictions,  test_labels)"
      ],
      "metadata": {
        "colab": {
          "base_uri": "https://localhost:8080/",
          "height": 203
        },
        "id": "sGfzKg8exYzu",
        "outputId": "d9370c8d-7571-4de7-f455-6ec586b61fe0"
      },
      "execution_count": null,
      "outputs": [
        {
          "output_type": "display_data",
          "data": {
            "text/plain": [
              "<Figure size 432x216 with 2 Axes>"
            ],
            "image/png": "[encoded data removed]"
          },
          "metadata": {}
        }
      ]
    },
    {
      "cell_type": "markdown",
      "source": [
        "Використання навчаної моделі"
      ],
      "metadata": {
        "id": "RcJqMhHWya_e"
      }
    },
    {
      "cell_type": "code",
      "source": [
        "img = test_images[103]\n",
        "print(img.shape)"
      ],
      "metadata": {
        "colab": {
          "base_uri": "https://localhost:8080/"
        },
        "id": "JC27otmEyfVz",
        "outputId": "8e71a607-bca8-4ec5-988e-b3a909affabb"
      },
      "execution_count": null,
      "outputs": [
        {
          "output_type": "stream",
          "name": "stdout",
          "text": [
            "(28, 28)\n"
          ]
        }
      ]
    },
    {
      "cell_type": "code",
      "source": [
        "img = (np.expand_dims(img,0))\n",
        "print(img.shape)"
      ],
      "metadata": {
        "colab": {
          "base_uri": "https://localhost:8080/"
        },
        "id": "_6vuIEMwykfY",
        "outputId": "6258589a-5b5a-4201-c8cb-8f95f5adcadd"
      },
      "execution_count": null,
      "outputs": [
        {
          "output_type": "stream",
          "name": "stdout",
          "text": [
            "(1, 28, 28)\n"
          ]
        }
      ]
    },
    {
      "cell_type": "code",
      "source": [
        "predictions_single = model.predict(img)\n",
        "print(predictions_single)"
      ],
      "metadata": {
        "colab": {
          "base_uri": "https://localhost:8080/"
        },
        "id": "O2vHrQjWzR35",
        "outputId": "e6cb02a6-9223-4dac-efdb-346011b44b26"
      },
      "execution_count": null,
      "outputs": [
        {
          "output_type": "stream",
          "name": "stdout",
          "text": [
            "1/1 [==============================] - 0s 33ms/step\n",
            "[[4.9979161e-02 8.7487267e-04 5.9697163e-01 7.2825588e-03 1.6962996e-02\n",
            "  8.1268922e-07 3.2486480e-01 8.4013800e-07 3.0619968e-03 2.5077065e-07]]\n"
          ]
        }
      ]
    },
    {
      "cell_type": "code",
      "source": [
        "plot_value_array(0, predictions_single, test_labels)\n",
        "_ = plt.xticks(range(10), class_names, rotation=45)"
      ],
      "metadata": {
        "colab": {
          "base_uri": "https://localhost:8080/",
          "height": 300
        },
        "id": "5cbizyTXzW5V",
        "outputId": "023f1a96-a11a-46f6-8a95-9a77e47d54b5"
      },
      "execution_count": null,
      "outputs": [
        {
          "output_type": "display_data",
          "data": {
            "text/plain": [
              "<Figure size 432x288 with 1 Axes>"
            ],
            "image/png": "[encoded data removed]"
          },
          "metadata": {
            "needs_background": "light"
          }
        }
      ]
    },
    {
      "cell_type": "markdown",
      "source": [
        "⏬"
      ],
      "metadata": {
        "id": "WReIvabnW1bT"
      }
    },
    {
      "cell_type": "markdown",
      "source": [
        "⏬"
      ],
      "metadata": {
        "id": "JmohMIxBW1lW"
      }
    },
    {
      "cell_type": "markdown",
      "source": [
        "⏬"
      ],
      "metadata": {
        "id": "rBiFT90qW1vr"
      }
    },
    {
      "cell_type": "markdown",
      "source": [
        "⏬"
      ],
      "metadata": {
        "id": "tAN57E5eW14W"
      }
    },
    {
      "cell_type": "code",
      "execution_count": null,
      "metadata": {
        "id": "xo7NrlSdXEhz"
      },
      "outputs": [],
      "source": [
        "import tensorflow as tf\n",
        "import numpy as np\n",
        "import matplotlib.pyplot as plt\n",
        "from tensorflow.python.ops.nn_impl import normalize\n",
        "from tensorflow.keras import regularizers\n",
        "from  IPython import display\n",
        "from matplotlib import pyplot as plt\n",
        "import numpy as np\n",
        "import pathlib\n",
        "import shutil\n",
        "import tempfile\n",
        "import matplotlib.pyplot as plt"
      ]
    },
    {
      "cell_type": "markdown",
      "source": [
        "Підключення датасету MNIST та додавання класу"
      ],
      "metadata": {
        "id": "osWhmnCoXEhz"
      }
    },
    {
      "cell_type": "code",
      "source": [
        "fashion_mnist = tf.keras.datasets.fashion_mnist\n",
        "\n",
        "(train_images, train_labels), (test_images, test_labels) = fashion_mnist.load_data()"
      ],
      "metadata": {
        "id": "QNrMpTTqXEh0"
      },
      "execution_count": null,
      "outputs": []
    },
    {
      "cell_type": "code",
      "source": [
        "class_names = ['T-shirt/top', 'Trouser', 'Pullover', 'Dress', 'Coat',\n",
        "               'Sandal', 'Shirt', 'Sneaker', 'Bag', 'Ankle boot']"
      ],
      "metadata": {
        "id": "0kuR5nuTXEh0"
      },
      "execution_count": null,
      "outputs": []
    },
    {
      "cell_type": "markdown",
      "source": [
        "Масштабування від 0 до 1. Навчальна і перевірна вибірки повинні бути попередньо оброблені однаково"
      ],
      "metadata": {
        "id": "l1bi1LOaXEh0"
      }
    },
    {
      "cell_type": "code",
      "source": [
        "train_images = train_images / 255.0\n",
        "test_images = test_images / 255.0"
      ],
      "metadata": {
        "id": "kuoilr2HXEh0"
      },
      "execution_count": null,
      "outputs": []
    },
    {
      "cell_type": "markdown",
      "source": [
        "Налаштування оптимізатора Адам"
      ],
      "metadata": {
        "id": "Fn54KhnsgNDS"
      }
    },
    {
      "cell_type": "code",
      "source": [
        "tf.keras.optimizers.Adam(\n",
        "    learning_rate=0.000001,\n",
        "    beta_1=0.9,\n",
        "    beta_2=0.999,\n",
        "    epsilon=1e-8,\n",
        "    amsgrad=False,\n",
        "    weight_decay=None,\n",
        "    clipnorm=None,\n",
        "    clipvalue=None,\n",
        "    global_clipnorm=None,\n",
        "    use_ema=False,\n",
        "    ema_momentum=0.99,\n",
        "    ema_overwrite_frequency=None,\n",
        "    jit_compile=True,\n",
        "    name='Adam'\n",
        ")"
      ],
      "metadata": {
        "colab": {
          "base_uri": "https://localhost:8080/"
        },
        "id": "ZxSIcgMrhKIN",
        "outputId": "9d57a8aa-d570-42f5-9aaa-8faece84a857"
      },
      "execution_count": null,
      "outputs": [
        {
          "output_type": "execute_result",
          "data": {
            "text/plain": [
              "<keras.optimizers.optimizer_experimental.adam.Adam at 0x7f74ece0a400>"
            ]
          },
          "metadata": {},
          "execution_count": 8
        }
      ]
    },
    {
      "cell_type": "markdown",
      "source": [
        "Валідація"
      ],
      "metadata": {
        "id": "LCXYpKHIdMVm"
      }
    },
    {
      "cell_type": "code",
      "source": [
        "train_images_val = train_images[-10000:]"
      ],
      "metadata": {
        "id": "oqHfDYlIdMAp"
      },
      "execution_count": null,
      "outputs": []
    },
    {
      "cell_type": "markdown",
      "source": [
        "Нормалізація"
      ],
      "metadata": {
        "id": "n-uHTlhPXEh0"
      }
    },
    {
      "cell_type": "code",
      "source": [
        "tf.keras.layers.Normalization(axis=-1,mean=None, variance=None, invert=True,)"
      ],
      "metadata": {
        "colab": {
          "base_uri": "https://localhost:8080/"
        },
        "outputId": "e3668af5-c3ff-4c6f-87e5-fa38584bd5a3",
        "id": "jOn1lnlEXEh0"
      },
      "execution_count": null,
      "outputs": [
        {
          "output_type": "execute_result",
          "data": {
            "text/plain": [
              "<keras.layers.preprocessing.normalization.Normalization at 0x7f74dbfdb6d0>"
            ]
          },
          "metadata": {},
          "execution_count": 10
        }
      ]
    },
    {
      "cell_type": "code",
      "source": [
        "from keras.utils.conv_utils import normalize_data_format\n",
        "normalizer = tf.keras.layers.Normalization(axis=-1)\n",
        "normalizer.adapt \n"
      ],
      "metadata": {
        "colab": {
          "base_uri": "https://localhost:8080/"
        },
        "outputId": "30a8aed6-bc05-4547-cc43-e341a93535c9",
        "id": "dxRMTIIiXEh1"
      },
      "execution_count": null,
      "outputs": [
        {
          "output_type": "execute_result",
          "data": {
            "text/plain": [
              "<bound method Normalization.adapt of <keras.layers.preprocessing.normalization.Normalization object at 0x7f74dbfdbf70>>"
            ]
          },
          "metadata": {},
          "execution_count": 11
        }
      ]
    },
    {
      "cell_type": "markdown",
      "source": [
        "Налаштування шарів"
      ],
      "metadata": {
        "id": "N65MT69nXEh1"
      }
    },
    {
      "cell_type": "code",
      "source": [
        "model = tf.keras.Sequential([\n",
        "    normalizer,\n",
        "    tf.keras.layers.Flatten(input_shape=(28, 28)),\n",
        "    tf.keras.layers.Dense(256, activation='elu'),\n",
        "    tf.keras.layers.Dense(128, activation='elu'),\n",
        "    tf.keras.layers.Dense(64, activation='elu'),\n",
        "    tf.keras.layers.Dense(32, activation='elu'),\n",
        "    tf.keras.layers.Dense(10, activation=tf.nn.softmax)\n",
        "])"
      ],
      "metadata": {
        "id": "zwUkR02-XEh1"
      },
      "execution_count": null,
      "outputs": []
    },
    {
      "cell_type": "markdown",
      "source": [
        "Налаштування шарів (Другий варіант)\n",
        "Dropout - запобігання перенавчання"
      ],
      "metadata": {
        "id": "8BfCP1sEa6Ti"
      }
    },
    {
      "cell_type": "code",
      "source": [
        "model = tf.keras.Sequential([\n",
        "    normalizer,\n",
        "    tf.keras.layers.Flatten(input_shape=(28, 28)),\n",
        "    tf.keras.layers.Dropout(0.3),\n",
        "    tf.keras.layers.Dense(256, activation='relu'),\n",
        "    tf.keras.layers.Dropout(0.2),\n",
        "    tf.keras.layers.Dense(128, activation='elu'),\n",
        "    tf.keras.layers.Dropout(0.3),\n",
        "    tf.keras.layers.Dense(64, activation='relu'),\n",
        "    tf.keras.layers.Dropout(0.2),\n",
        "    tf.keras.layers.Dense(32, activation='elu'),\n",
        "    tf.keras.layers.Dropout(0.3),\n",
        "    tf.keras.layers.Dense(10, activation=tf.nn.softmax)\n",
        "])"
      ],
      "metadata": {
        "id": "QbAajrFFFefl"
      },
      "execution_count": null,
      "outputs": []
    },
    {
      "cell_type": "markdown",
      "source": [
        "Налаштування шарів (Третій варіант)\n",
        "Комбанований спосіб - запобігання перенавчання"
      ],
      "metadata": {
        "id": "mQd86TGRC7x2"
      }
    },
    {
      "cell_type": "code",
      "source": [
        "model = tf.keras.Sequential([\n",
        "    normalizer,\n",
        "    tf.keras.layers.Flatten(input_shape=(28, 28)),\n",
        "    tf.keras.layers.Dropout(0.2),\n",
        "    tf.keras.layers.Dense(256, activation='relu', kernel_regularizer=regularizers.l2(0.001)),\n",
        "    tf.keras.layers.Dropout(0.2),\n",
        "    tf.keras.layers.Dense(128, activation='elu', kernel_regularizer=regularizers.l2(0.001)),\n",
        "    tf.keras.layers.Dropout(0.2),\n",
        "    tf.keras.layers.Dense(64, activation='relu', kernel_regularizer=regularizers.l2(0.001)),\n",
        "    tf.keras.layers.Dropout(0.2),\n",
        "    tf.keras.layers.Dense(32, activation='elu', kernel_regularizer=regularizers.l2(0.001)),\n",
        "    tf.keras.layers.Dropout(0.2),\n",
        "    tf.keras.layers.Dense(10, activation=tf.nn.softmax)\n",
        "])"
      ],
      "metadata": {
        "id": "BDKxTdBzDFrJ"
      },
      "execution_count": null,
      "outputs": []
    },
    {
      "cell_type": "markdown",
      "source": [
        "Визначення learning_rate"
      ],
      "metadata": {
        "id": "qc6aV5S1M7Ry"
      }
    },
    {
      "cell_type": "code",
      "source": [
        "initial_model = tf.keras.Sequential([\n",
        "    tf.keras.layers.Dense(256, activation='relu'),\n",
        "    tf.keras.layers.Dense(128, activation='elu'),\n",
        "    tf.keras.layers.Dense(64, activation='relu'),\n",
        "    tf.keras.layers.Dense(32, activation='elu'),\n",
        "    tf.keras.layers.Dense(10, activation=tf.nn.softmax)\n",
        "])\n",
        "\n",
        "initial_model.compile(\n",
        "    optimizer=tf.keras.optimizers.Adam(),\n",
        "    metrics=[tf.keras.metrics.BinaryAccuracy(name='accuracy')])\n",
        " \n",
        "initial_history = model.fit(train_images, train_labels, epochs=10, callbacks=[tf.keras.callbacks.LearningRateScheduler(lambda epoch: 1e-3 * 10 ** (epoch / 10))])"
      ],
      "metadata": {
        "colab": {
          "base_uri": "https://localhost:8080/"
        },
        "id": "tIDmXCSmNS_v",
        "outputId": "ba2590c8-1b2c-4d85-a964-22616ef31a7d"
      },
      "execution_count": null,
      "outputs": [
        {
          "output_type": "stream",
          "name": "stdout",
          "text": [
            "Epoch 1/10\n",
            "1875/1875 [==============================] - 16s 9ms/step - loss: 0.6301 - accuracy: 0.8272 - lr: 0.0010\n",
            "Epoch 2/10\n",
            "1875/1875 [==============================] - 16s 9ms/step - loss: 0.6359 - accuracy: 0.8252 - lr: 0.0011\n",
            "Epoch 3/10\n",
            "1875/1875 [==============================] - 16s 9ms/step - loss: 0.6375 - accuracy: 0.8256 - lr: 0.0012\n",
            "Epoch 4/10\n",
            "1875/1875 [==============================] - 15s 8ms/step - loss: 0.6522 - accuracy: 0.8209 - lr: 0.0013\n",
            "Epoch 5/10\n",
            "1875/1875 [==============================] - 15s 8ms/step - loss: 0.6598 - accuracy: 0.8209 - lr: 0.0014\n",
            "Epoch 6/10\n",
            "1875/1875 [==============================] - 17s 9ms/step - loss: 0.6762 - accuracy: 0.8164 - lr: 0.0015\n",
            "Epoch 7/10\n",
            "1875/1875 [==============================] - 15s 8ms/step - loss: 0.6868 - accuracy: 0.8133 - lr: 0.0016\n",
            "Epoch 8/10\n",
            "1875/1875 [==============================] - 15s 8ms/step - loss: 0.6980 - accuracy: 0.8099 - lr: 0.0017\n",
            "Epoch 9/10\n",
            "1875/1875 [==============================] - 15s 8ms/step - loss: 0.7122 - accuracy: 0.8065 - lr: 0.0018\n",
            "Epoch 10/10\n",
            "1875/1875 [==============================] - 15s 8ms/step - loss: 0.7236 - accuracy: 0.8039 - lr: 0.0020\n"
          ]
        }
      ]
    },
    {
      "cell_type": "markdown",
      "source": [
        "Компіляція моделі (перший спосіб)\n",
        "\n"
      ],
      "metadata": {
        "id": "MT5tTxIzXEh1"
      }
    },
    {
      "cell_type": "code",
      "source": [
        "model.compile(optimizer='adamax',\n",
        "              loss=tf.keras.losses.SparseCategoricalCrossentropy(from_logits=True),\n",
        "              metrics=['accuracy'])"
      ],
      "metadata": {
        "id": "L-8NG87YXEh1"
      },
      "execution_count": null,
      "outputs": []
    },
    {
      "cell_type": "markdown",
      "source": [
        "Компіляція моделі (другий спосіб)"
      ],
      "metadata": {
        "id": "rZcy1x6DZ3dc"
      }
    },
    {
      "cell_type": "code",
      "source": [
        "model.compile(optimizer=tf.keras.optimizers.Adam (),\n",
        "              loss=tf.keras.losses.SparseCategoricalCrossentropy(from_logits=True),\n",
        "              metrics=['accuracy'])"
      ],
      "metadata": {
        "id": "NEx_RVhNXEh0"
      },
      "execution_count": null,
      "outputs": []
    },
    {
      "cell_type": "markdown",
      "source": [
        "Компіляція моделі (третій спосіб) зі вказанням learning_rate"
      ],
      "metadata": {
        "id": "SoYBT5a7epBE"
      }
    },
    {
      "cell_type": "code",
      "source": [
        "model.compile(optimizer=tf.keras.optimizers.Adam (learning_rate=0.0010),\n",
        "              loss=tf.keras.losses.SparseCategoricalCrossentropy(from_logits=True),\n",
        "              metrics=['accuracy'])"
      ],
      "metadata": {
        "id": "pZeF6v1depLY"
      },
      "execution_count": null,
      "outputs": []
    },
    {
      "cell_type": "markdown",
      "source": [
        "Тренування моделі (другий спосіб)\n",
        "Збереження моделі HDF5"
      ],
      "metadata": {
        "id": "qOLZLaiPXEh1"
      }
    },
    {
      "cell_type": "code",
      "source": [
        "model.fit(train_images, train_labels, validation_split=0.2, epochs=20)\n",
        "model.save('my_model.h5')"
      ],
      "metadata": {
        "colab": {
          "base_uri": "https://localhost:8080/"
        },
        "outputId": "a2a7254e-e8ce-4d42-9bcb-df23ccc355cb",
        "id": "F6q_iJcIXEh1"
      },
      "execution_count": null,
      "outputs": [
        {
          "output_type": "stream",
          "name": "stdout",
          "text": [
            "Epoch 1/20\n",
            "1500/1500 [==============================] - 17s 11ms/step - loss: 0.8226 - accuracy: 0.7234 - val_loss: 0.6426 - val_accuracy: 0.7947\n",
            "Epoch 2/20\n",
            "1500/1500 [==============================] - 14s 9ms/step - loss: 0.8134 - accuracy: 0.7266 - val_loss: 0.6584 - val_accuracy: 0.7920\n",
            "Epoch 3/20\n",
            "1500/1500 [==============================] - 15s 10ms/step - loss: 0.8086 - accuracy: 0.7284 - val_loss: 0.6661 - val_accuracy: 0.7883\n",
            "Epoch 4/20\n",
            "1500/1500 [==============================] - 14s 9ms/step - loss: 0.8142 - accuracy: 0.7280 - val_loss: 0.6483 - val_accuracy: 0.7881\n",
            "Epoch 5/20\n",
            "1500/1500 [==============================] - 14s 9ms/step - loss: 0.8070 - accuracy: 0.7276 - val_loss: 0.6382 - val_accuracy: 0.7973\n",
            "Epoch 6/20\n",
            "1500/1500 [==============================] - 14s 9ms/step - loss: 0.8061 - accuracy: 0.7280 - val_loss: 0.6512 - val_accuracy: 0.7939\n",
            "Epoch 7/20\n",
            "1500/1500 [==============================] - 14s 9ms/step - loss: 0.8064 - accuracy: 0.7275 - val_loss: 0.6391 - val_accuracy: 0.7949\n",
            "Epoch 8/20\n",
            "1500/1500 [==============================] - 17s 11ms/step - loss: 0.8071 - accuracy: 0.7316 - val_loss: 0.6374 - val_accuracy: 0.7972\n",
            "Epoch 9/20\n",
            "1500/1500 [==============================] - 14s 9ms/step - loss: 0.8036 - accuracy: 0.7302 - val_loss: 0.6381 - val_accuracy: 0.7922\n",
            "Epoch 10/20\n",
            "1500/1500 [==============================] - 14s 10ms/step - loss: 0.8011 - accuracy: 0.7372 - val_loss: 0.6475 - val_accuracy: 0.8073\n",
            "Epoch 11/20\n",
            "1500/1500 [==============================] - 14s 9ms/step - loss: 0.7948 - accuracy: 0.7456 - val_loss: 0.6441 - val_accuracy: 0.8081\n",
            "Epoch 12/20\n",
            "1500/1500 [==============================] - 14s 9ms/step - loss: 0.7904 - accuracy: 0.7471 - val_loss: 0.6453 - val_accuracy: 0.8142\n",
            "Epoch 13/20\n",
            "1500/1500 [==============================] - 14s 10ms/step - loss: 0.7854 - accuracy: 0.7488 - val_loss: 0.6230 - val_accuracy: 0.8153\n",
            "Epoch 14/20\n",
            "1500/1500 [==============================] - 14s 9ms/step - loss: 0.7818 - accuracy: 0.7524 - val_loss: 0.6177 - val_accuracy: 0.8221\n",
            "Epoch 15/20\n",
            "1500/1500 [==============================] - 14s 9ms/step - loss: 0.7857 - accuracy: 0.7498 - val_loss: 0.6288 - val_accuracy: 0.8110\n",
            "Epoch 16/20\n",
            "1500/1500 [==============================] - 14s 9ms/step - loss: 0.7822 - accuracy: 0.7515 - val_loss: 0.6264 - val_accuracy: 0.8198\n",
            "Epoch 17/20\n",
            "1500/1500 [==============================] - 15s 10ms/step - loss: 0.7821 - accuracy: 0.7514 - val_loss: 0.6153 - val_accuracy: 0.8183\n",
            "Epoch 18/20\n",
            "1500/1500 [==============================] - 14s 10ms/step - loss: 0.7774 - accuracy: 0.7543 - val_loss: 0.6763 - val_accuracy: 0.7939\n",
            "Epoch 19/20\n",
            "1500/1500 [==============================] - 15s 10ms/step - loss: 0.7827 - accuracy: 0.7504 - val_loss: 0.6091 - val_accuracy: 0.8234\n",
            "Epoch 20/20\n",
            "1500/1500 [==============================] - 14s 9ms/step - loss: 0.7828 - accuracy: 0.7534 - val_loss: 0.6116 - val_accuracy: 0.8158\n"
          ]
        }
      ]
    },
    {
      "cell_type": "code",
      "source": [
        "model = tf.keras.models.load_model('my_model.h5')\n",
        "model.summary()"
      ],
      "metadata": {
        "colab": {
          "base_uri": "https://localhost:8080/"
        },
        "id": "jTjr6UHh-CcW",
        "outputId": "6b381d44-d693-49b6-a67e-9cbb32975d29"
      },
      "execution_count": null,
      "outputs": [
        {
          "output_type": "stream",
          "name": "stdout",
          "text": [
            "Model: \"sequential\"\n",
            "_________________________________________________________________\n",
            " Layer (type)                Output Shape              Param #   \n",
            "=================================================================\n",
            " normalization_1 (Normalizat  (32, 28, 28)             57        \n",
            " ion)                                                            \n",
            "                                                                 \n",
            " flatten (Flatten)           (32, 784)                 0         \n",
            "                                                                 \n",
            " dropout (Dropout)           (32, 784)                 0         \n",
            "                                                                 \n",
            " dense (Dense)               (32, 256)                 200960    \n",
            "                                                                 \n",
            " dropout_1 (Dropout)         (32, 256)                 0         \n",
            "                                                                 \n",
            " dense_1 (Dense)             (32, 128)                 32896     \n",
            "                                                                 \n",
            " dropout_2 (Dropout)         (32, 128)                 0         \n",
            "                                                                 \n",
            " dense_2 (Dense)             (32, 64)                  8256      \n",
            "                                                                 \n",
            " dropout_3 (Dropout)         (32, 64)                  0         \n",
            "                                                                 \n",
            " dense_3 (Dense)             (32, 32)                  2080      \n",
            "                                                                 \n",
            " dropout_4 (Dropout)         (32, 32)                  0         \n",
            "                                                                 \n",
            " dense_4 (Dense)             (32, 10)                  330       \n",
            "                                                                 \n",
            "=================================================================\n",
            "Total params: 244,579\n",
            "Trainable params: 244,522\n",
            "Non-trainable params: 57\n",
            "_________________________________________________________________\n"
          ]
        }
      ]
    },
    {
      "cell_type": "markdown",
      "source": [
        "Тренування моделі (третій спосіб)\n",
        "Збереження моделі "
      ],
      "metadata": {
        "id": "mluCa3L1_sEM"
      }
    },
    {
      "cell_type": "code",
      "source": [
        "model.fit(train_images, train_labels, validation_split=0.2, epochs=5)\n",
        "!mkdir -p saved_model\n",
        "model.save('saved_model/my_model')"
      ],
      "metadata": {
        "id": "WZ-IJQC3_1zx",
        "colab": {
          "base_uri": "https://localhost:8080/"
        },
        "outputId": "13557e59-b344-4d6f-fc97-55712fcb8359"
      },
      "execution_count": null,
      "outputs": [
        {
          "output_type": "stream",
          "name": "stdout",
          "text": [
            "Epoch 1/5\n",
            "1500/1500 [==============================] - 14s 9ms/step - loss: 0.6252 - accuracy: 0.8285 - val_loss: 0.5661 - val_accuracy: 0.8456\n",
            "Epoch 2/5\n",
            "1500/1500 [==============================] - 13s 9ms/step - loss: 0.6234 - accuracy: 0.8289 - val_loss: 0.5632 - val_accuracy: 0.8429\n",
            "Epoch 3/5\n",
            "1500/1500 [==============================] - 13s 9ms/step - loss: 0.6220 - accuracy: 0.8287 - val_loss: 0.5456 - val_accuracy: 0.8568\n",
            "Epoch 4/5\n",
            "1500/1500 [==============================] - 14s 9ms/step - loss: 0.6182 - accuracy: 0.8305 - val_loss: 0.5705 - val_accuracy: 0.8395\n",
            "Epoch 5/5\n",
            "1500/1500 [==============================] - 13s 9ms/step - loss: 0.6171 - accuracy: 0.8293 - val_loss: 0.5208 - val_accuracy: 0.8612\n"
          ]
        },
        {
          "output_type": "stream",
          "name": "stderr",
          "text": [
            "WARNING:absl:Found untraced functions such as _update_step_xla while saving (showing 1 of 1). These functions will not be directly callable after loading.\n"
          ]
        }
      ]
    },
    {
      "cell_type": "markdown",
      "source": [
        "Тренування моделі (четвертий спосіб) збереження чекпоінтів"
      ],
      "metadata": {
        "id": "9uWG9itn_DQJ"
      }
    },
    {
      "cell_type": "code",
      "source": [
        "checkpoint_path = \"training_1/cp.ckpt\"\n",
        "cp_callback = tf.keras.callbacks.ModelCheckpoint(filepath=checkpoint_path, save_weights_only=True, verbose=1)\n",
        "model.fit(train_images, \n",
        "          train_labels,  \n",
        "          epochs=10,\n",
        "          validation_data=(test_images, test_labels),\n",
        "          callbacks=[cp_callback])"
      ],
      "metadata": {
        "colab": {
          "base_uri": "https://localhost:8080/"
        },
        "id": "rArk6fgJ_1jz",
        "outputId": "a67b7671-cec6-4446-f2e6-367efe10ab4c"
      },
      "execution_count": null,
      "outputs": [
        {
          "output_type": "stream",
          "name": "stdout",
          "text": [
            "Epoch 1/10\n",
            "1870/1875 [============================>.] - ETA: 0s - loss: 1.0371 - accuracy: 0.7586\n",
            "Epoch 1: saving model to training_1/cp.ckpt\n",
            "1875/1875 [==============================] - 20s 9ms/step - loss: 1.0363 - accuracy: 0.7587 - val_loss: 0.7004 - val_accuracy: 0.8266\n",
            "Epoch 2/10\n",
            "1874/1875 [============================>.] - ETA: 0s - loss: 0.7310 - accuracy: 0.8117\n",
            "Epoch 2: saving model to training_1/cp.ckpt\n",
            "1875/1875 [==============================] - 17s 9ms/step - loss: 0.7309 - accuracy: 0.8117 - val_loss: 0.6177 - val_accuracy: 0.8403\n",
            "Epoch 3/10\n",
            "1874/1875 [============================>.] - ETA: 0s - loss: 0.6771 - accuracy: 0.8192\n",
            "Epoch 3: saving model to training_1/cp.ckpt\n",
            "1875/1875 [==============================] - 16s 9ms/step - loss: 0.6771 - accuracy: 0.8192 - val_loss: 0.5949 - val_accuracy: 0.8427\n",
            "Epoch 4/10\n",
            "1871/1875 [============================>.] - ETA: 0s - loss: 0.6586 - accuracy: 0.8226\n",
            "Epoch 4: saving model to training_1/cp.ckpt\n",
            "1875/1875 [==============================] - 18s 9ms/step - loss: 0.6585 - accuracy: 0.8226 - val_loss: 0.5946 - val_accuracy: 0.8403\n",
            "Epoch 5/10\n",
            "1870/1875 [============================>.] - ETA: 0s - loss: 0.6459 - accuracy: 0.8231\n",
            "Epoch 5: saving model to training_1/cp.ckpt\n",
            "1875/1875 [==============================] - 16s 9ms/step - loss: 0.6459 - accuracy: 0.8231 - val_loss: 0.6124 - val_accuracy: 0.8395\n",
            "Epoch 6/10\n",
            "1873/1875 [============================>.] - ETA: 0s - loss: 0.6405 - accuracy: 0.8251\n",
            "Epoch 6: saving model to training_1/cp.ckpt\n",
            "1875/1875 [==============================] - 18s 10ms/step - loss: 0.6406 - accuracy: 0.8250 - val_loss: 0.5730 - val_accuracy: 0.8435\n",
            "Epoch 7/10\n",
            "1874/1875 [============================>.] - ETA: 0s - loss: 0.6399 - accuracy: 0.8255\n",
            "Epoch 7: saving model to training_1/cp.ckpt\n",
            "1875/1875 [==============================] - 16s 9ms/step - loss: 0.6399 - accuracy: 0.8255 - val_loss: 0.6042 - val_accuracy: 0.8342\n",
            "Epoch 8/10\n",
            "1874/1875 [============================>.] - ETA: 0s - loss: 0.6335 - accuracy: 0.8256\n",
            "Epoch 8: saving model to training_1/cp.ckpt\n",
            "1875/1875 [==============================] - 16s 9ms/step - loss: 0.6335 - accuracy: 0.8256 - val_loss: 0.5668 - val_accuracy: 0.8474\n",
            "Epoch 9/10\n",
            "1871/1875 [============================>.] - ETA: 0s - loss: 0.6315 - accuracy: 0.8265\n",
            "Epoch 9: saving model to training_1/cp.ckpt\n",
            "1875/1875 [==============================] - 16s 9ms/step - loss: 0.6313 - accuracy: 0.8266 - val_loss: 0.5811 - val_accuracy: 0.8398\n",
            "Epoch 10/10\n",
            "1872/1875 [============================>.] - ETA: 0s - loss: 0.6260 - accuracy: 0.8299\n",
            "Epoch 10: saving model to training_1/cp.ckpt\n",
            "1875/1875 [==============================] - 18s 10ms/step - loss: 0.6260 - accuracy: 0.8299 - val_loss: 0.5825 - val_accuracy: 0.8411\n"
          ]
        },
        {
          "output_type": "execute_result",
          "data": {
            "text/plain": [
              "<keras.callbacks.History at 0x7f7c3dbdf550>"
            ]
          },
          "metadata": {},
          "execution_count": 58
        }
      ]
    },
    {
      "cell_type": "code",
      "source": [
        "test_loss, test_acc = model.evaluate(test_images,  test_labels, verbose=2)\n",
        "print('\\nTest accuracy:', test_acc)"
      ],
      "metadata": {
        "colab": {
          "base_uri": "https://localhost:8080/"
        },
        "outputId": "b2590dce-390a-4500-f344-3838c09b5980",
        "id": "B9mBKzlKXEh1"
      },
      "execution_count": null,
      "outputs": [
        {
          "output_type": "stream",
          "name": "stdout",
          "text": [
            "313/313 - 1s - loss: 0.5665 - accuracy: 0.8470 - 858ms/epoch - 3ms/step\n",
            "\n",
            "Test accuracy: 0.847000002861023\n"
          ]
        }
      ]
    },
    {
      "cell_type": "markdown",
      "source": [
        "Викорстання моделі для передбачення на тестовому наборі\n",
        "\n",
        "\n"
      ],
      "metadata": {
        "id": "GVevkYTmXEh1"
      }
    },
    {
      "cell_type": "code",
      "source": [
        "probability_model = tf.keras.Sequential([model, tf.keras.layers.Softmax()])"
      ],
      "metadata": {
        "id": "rvpz0jw2XEh1"
      },
      "execution_count": null,
      "outputs": []
    },
    {
      "cell_type": "code",
      "source": [
        "predictions = probability_model.predict(test_images)"
      ],
      "metadata": {
        "colab": {
          "base_uri": "https://localhost:8080/"
        },
        "outputId": "8ed88d8a-ac45-4cce-dfe8-f24bca326c8c",
        "id": "HUbf44iaXEh1"
      },
      "execution_count": null,
      "outputs": [
        {
          "output_type": "stream",
          "name": "stdout",
          "text": [
            "313/313 [==============================] - 1s 2ms/step\n"
          ]
        }
      ]
    },
    {
      "cell_type": "code",
      "source": [
        "predictions[0]"
      ],
      "metadata": {
        "colab": {
          "base_uri": "https://localhost:8080/"
        },
        "outputId": "907396c6-1165-4914-d232-be4ea0934784",
        "id": "YGzViZbnXEh2"
      },
      "execution_count": null,
      "outputs": [
        {
          "output_type": "execute_result",
          "data": {
            "text/plain": [
              "array([0.08747412, 0.08748708, 0.08749352, 0.08747748, 0.08747018,\n",
              "       0.09157466, 0.08748026, 0.10248635, 0.08749229, 0.19356407],\n",
              "      dtype=float32)"
            ]
          },
          "metadata": {},
          "execution_count": 81
        }
      ]
    },
    {
      "cell_type": "code",
      "source": [
        "np.argmax(predictions[0])"
      ],
      "metadata": {
        "colab": {
          "base_uri": "https://localhost:8080/"
        },
        "outputId": "4c103fd4-0eca-4afe-a893-eeee5c5fd804",
        "id": "1PFT1NUsXEh2"
      },
      "execution_count": null,
      "outputs": [
        {
          "output_type": "execute_result",
          "data": {
            "text/plain": [
              "9"
            ]
          },
          "metadata": {},
          "execution_count": 82
        }
      ]
    },
    {
      "cell_type": "code",
      "source": [
        "def plot_image(i, predictions_array, true_label, img):\n",
        "  predictions_array, true_label, img = predictions_array[i], true_label[i], img[i]\n",
        "  plt.grid(False)\n",
        "  plt.xticks([])\n",
        "  plt.yticks([])\n",
        "\n",
        "  plt.imshow(img, cmap=plt.cm.binary)\n",
        "\n",
        "  predicted_label = np.argmax(predictions_array)\n",
        "  if predicted_label == true_label:\n",
        "    color = 'blue'\n",
        "  else:\n",
        "    color = 'red'\n",
        "\n",
        "  plt.xlabel(\"{} {:2.0f}% ({})\".format(class_names[predicted_label],\n",
        "                                100*np.max(predictions_array),\n",
        "                                class_names[true_label]),\n",
        "                                color=color)\n",
        "\n",
        "def plot_value_array(i, predictions_array, true_label):\n",
        "  predictions_array, true_label = predictions_array[i], true_label[i]\n",
        "  plt.grid(True)\n",
        "  plt.xticks([])\n",
        "  plt.yticks([])\n",
        "  thisplot = plt.bar(range(10), predictions_array, color=\"#777777\")\n",
        "  plt.ylim([0, 1]) \n",
        "  predicted_label = np.argmax(predictions_array)\n",
        "\n",
        "  thisplot[predicted_label].set_color('red')\n",
        "  thisplot[true_label].set_color('blue')"
      ],
      "metadata": {
        "id": "7UrG8iNXXEh2"
      },
      "execution_count": null,
      "outputs": []
    },
    {
      "cell_type": "code",
      "source": [
        "i = 104\n",
        "\n",
        "\n",
        "plt.figure(figsize=(6,3))\n",
        "plt.subplot(1,2,1)\n",
        "plot_image(i, predictions, test_labels, test_images)\n",
        "plt.subplot(1,2,2)\n",
        "plot_value_array(i, predictions,  test_labels)"
      ],
      "metadata": {
        "colab": {
          "base_uri": "https://localhost:8080/",
          "height": 203
        },
        "outputId": "e010cd68-97b5-4a67-88c3-a060698355e6",
        "id": "H22_yDR-XEh2"
      },
      "execution_count": null,
      "outputs": [
        {
          "output_type": "display_data",
          "data": {
            "text/plain": [
              "<Figure size 432x216 with 2 Axes>"
            ],
            "image/png": "[encoded data removed]"
          },
          "metadata": {}
        }
      ]
    },
    {
      "cell_type": "markdown",
      "source": [
        "Використання навчаної моделі"
      ],
      "metadata": {
        "id": "gs-Dtvi8XEh2"
      }
    },
    {
      "cell_type": "code",
      "source": [
        "img = test_images[10]\n",
        "print(img.shape)"
      ],
      "metadata": {
        "colab": {
          "base_uri": "https://localhost:8080/"
        },
        "outputId": "11238bf1-ecc5-44aa-c4fc-bae1f1985517",
        "id": "dTrboweDXEh2"
      },
      "execution_count": null,
      "outputs": [
        {
          "output_type": "stream",
          "name": "stdout",
          "text": [
            "(28, 28)\n"
          ]
        }
      ]
    },
    {
      "cell_type": "code",
      "source": [
        "img = (np.expand_dims(img,0))\n",
        "print(img.shape)"
      ],
      "metadata": {
        "colab": {
          "base_uri": "https://localhost:8080/"
        },
        "outputId": "f6cf9434-0afa-4cf2-f971-8f3a62746394",
        "id": "z5MFauZNXEh2"
      },
      "execution_count": null,
      "outputs": [
        {
          "output_type": "stream",
          "name": "stdout",
          "text": [
            "(1, 28, 28)\n"
          ]
        }
      ]
    },
    {
      "cell_type": "code",
      "source": [
        "predictions_single = model.predict(img)\n",
        "print(predictions_single)"
      ],
      "metadata": {
        "colab": {
          "base_uri": "https://localhost:8080/"
        },
        "outputId": "f0c514e7-142e-4ab6-ceb4-a13f6bc93f29",
        "id": "gf3F-xp_XEh2"
      },
      "execution_count": null,
      "outputs": [
        {
          "output_type": "stream",
          "name": "stdout",
          "text": [
            "1/1 [==============================] - 0s 27ms/step\n",
            "[[1.0111406e-03 1.6744799e-04 2.2386762e-01 1.4500726e-03 5.6345826e-01\n",
            "  1.0037407e-07 2.0839745e-01 3.1680955e-07 1.6475020e-03 5.9719333e-08]]\n"
          ]
        }
      ]
    },
    {
      "cell_type": "code",
      "source": [
        "plot_value_array(0, predictions_single, test_labels)\n",
        "_ = plt.xticks(range(10), class_names, rotation=45)"
      ],
      "metadata": {
        "colab": {
          "base_uri": "https://localhost:8080/",
          "height": 300
        },
        "outputId": "484e596b-9441-4106-daa3-b8537659944d",
        "id": "9HM-8yfUXEh3"
      },
      "execution_count": null,
      "outputs": [
        {
          "output_type": "display_data",
          "data": {
            "text/plain": [
              "<Figure size 432x288 with 1 Axes>"
            ],
            "image/png": "[encoded data removed]"
          },
          "metadata": {
            "needs_background": "light"
          }
        }
      ]
    }
  ]
}